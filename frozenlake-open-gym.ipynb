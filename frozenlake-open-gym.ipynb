{
 "cells": [
  {
   "cell_type": "code",
   "execution_count": 30,
   "metadata": {},
   "outputs": [],
   "source": [
    "import gym\n",
    "import numpy as np"
   ]
  },
  {
   "cell_type": "code",
   "execution_count": 41,
   "metadata": {},
   "outputs": [
    {
     "name": "stderr",
     "output_type": "stream",
     "text": [
      "[2017-11-29 17:53:53,818] Making new env: FrozenLake-v0\n"
     ]
    }
   ],
   "source": [
    "env = gym.make('FrozenLake-v0')\n",
    "num_episodes = 5"
   ]
  },
  {
   "cell_type": "code",
   "execution_count": 42,
   "metadata": {},
   "outputs": [
    {
     "name": "stdout",
     "output_type": "stream",
     "text": [
      "\n",
      "\u001b[41mS\u001b[0mFFF\n",
      "FHFH\n",
      "FFFH\n",
      "HFFG\n"
     ]
    },
    {
     "data": {
      "text/plain": [
       "<ipykernel.iostream.OutStream at 0x10467d630>"
      ]
     },
     "execution_count": 42,
     "metadata": {},
     "output_type": "execute_result"
    }
   ],
   "source": [
    "env.render()\n",
    "# action = env.action_space.sample()\n",
    "# print(action)"
   ]
  },
  {
   "cell_type": "code",
   "execution_count": 46,
   "metadata": {},
   "outputs": [
    {
     "name": "stdout",
     "output_type": "stream",
     "text": [
      "\n",
      "\u001b[41mS\u001b[0mFFF\n",
      "FHFH\n",
      "FFFH\n",
      "HFFG\n",
      "======================\n",
      "Action 2 and observation 1 with reward 0.0 in episode 0, step 0\n",
      "======================\n",
      "  (Right)\n",
      "S\u001b[41mF\u001b[0mFF\n",
      "FHFH\n",
      "FFFH\n",
      "HFFG\n",
      "======================\n",
      "Action 2 and observation 2 with reward 0.0 in episode 0, step 1\n",
      "======================\n",
      "  (Right)\n",
      "SF\u001b[41mF\u001b[0mF\n",
      "FHFH\n",
      "FFFH\n",
      "HFFG\n",
      "======================\n",
      "Action 1 and observation 6 with reward 0.0 in episode 0, step 2\n",
      "======================\n",
      "  (Down)\n",
      "SFFF\n",
      "FH\u001b[41mF\u001b[0mH\n",
      "FFFH\n",
      "HFFG\n",
      "======================\n",
      "Action 0 and observation 5 with reward 0.0 in episode 0, step 3\n",
      "======================\n",
      "Episode finished after 4 timesteps\n",
      "\n",
      "\u001b[41mS\u001b[0mFFF\n",
      "FHFH\n",
      "FFFH\n",
      "HFFG\n",
      "======================\n",
      "Action 3 and observation 1 with reward 0.0 in episode 1, step 0\n",
      "======================\n",
      "  (Up)\n",
      "S\u001b[41mF\u001b[0mFF\n",
      "FHFH\n",
      "FFFH\n",
      "HFFG\n",
      "======================\n",
      "Action 1 and observation 0 with reward 0.0 in episode 1, step 1\n",
      "======================\n",
      "  (Down)\n",
      "\u001b[41mS\u001b[0mFFF\n",
      "FHFH\n",
      "FFFH\n",
      "HFFG\n",
      "======================\n",
      "Action 1 and observation 4 with reward 0.0 in episode 1, step 2\n",
      "======================\n",
      "  (Down)\n",
      "SFFF\n",
      "\u001b[41mF\u001b[0mHFH\n",
      "FFFH\n",
      "HFFG\n",
      "======================\n",
      "Action 3 and observation 0 with reward 0.0 in episode 1, step 3\n",
      "======================\n",
      "  (Up)\n",
      "\u001b[41mS\u001b[0mFFF\n",
      "FHFH\n",
      "FFFH\n",
      "HFFG\n",
      "======================\n",
      "Action 0 and observation 0 with reward 0.0 in episode 1, step 4\n",
      "======================\n",
      "  (Left)\n",
      "\u001b[41mS\u001b[0mFFF\n",
      "FHFH\n",
      "FFFH\n",
      "HFFG\n",
      "======================\n",
      "Action 2 and observation 4 with reward 0.0 in episode 1, step 5\n",
      "======================\n",
      "  (Right)\n",
      "SFFF\n",
      "\u001b[41mF\u001b[0mHFH\n",
      "FFFH\n",
      "HFFG\n",
      "======================\n",
      "Action 2 and observation 0 with reward 0.0 in episode 1, step 6\n",
      "======================\n",
      "  (Right)\n",
      "\u001b[41mS\u001b[0mFFF\n",
      "FHFH\n",
      "FFFH\n",
      "HFFG\n",
      "======================\n",
      "Action 3 and observation 1 with reward 0.0 in episode 1, step 7\n",
      "======================\n",
      "  (Up)\n",
      "S\u001b[41mF\u001b[0mFF\n",
      "FHFH\n",
      "FFFH\n",
      "HFFG\n",
      "======================\n",
      "Action 2 and observation 5 with reward 0.0 in episode 1, step 8\n",
      "======================\n",
      "Episode finished after 9 timesteps\n",
      "\n",
      "\u001b[41mS\u001b[0mFFF\n",
      "FHFH\n",
      "FFFH\n",
      "HFFG\n",
      "======================\n",
      "Action 3 and observation 1 with reward 0.0 in episode 2, step 0\n",
      "======================\n",
      "  (Up)\n",
      "S\u001b[41mF\u001b[0mFF\n",
      "FHFH\n",
      "FFFH\n",
      "HFFG\n",
      "======================\n",
      "Action 3 and observation 0 with reward 0.0 in episode 2, step 1\n",
      "======================\n",
      "  (Up)\n",
      "\u001b[41mS\u001b[0mFFF\n",
      "FHFH\n",
      "FFFH\n",
      "HFFG\n",
      "======================\n",
      "Action 3 and observation 0 with reward 0.0 in episode 2, step 2\n",
      "======================\n",
      "  (Up)\n",
      "\u001b[41mS\u001b[0mFFF\n",
      "FHFH\n",
      "FFFH\n",
      "HFFG\n",
      "======================\n",
      "Action 2 and observation 1 with reward 0.0 in episode 2, step 3\n",
      "======================\n",
      "  (Right)\n",
      "S\u001b[41mF\u001b[0mFF\n",
      "FHFH\n",
      "FFFH\n",
      "HFFG\n",
      "======================\n",
      "Action 1 and observation 5 with reward 0.0 in episode 2, step 4\n",
      "======================\n",
      "Episode finished after 5 timesteps\n",
      "\n",
      "\u001b[41mS\u001b[0mFFF\n",
      "FHFH\n",
      "FFFH\n",
      "HFFG\n",
      "======================\n",
      "Action 2 and observation 4 with reward 0.0 in episode 3, step 0\n",
      "======================\n",
      "  (Right)\n",
      "SFFF\n",
      "\u001b[41mF\u001b[0mHFH\n",
      "FFFH\n",
      "HFFG\n",
      "======================\n",
      "Action 2 and observation 8 with reward 0.0 in episode 3, step 1\n",
      "======================\n",
      "  (Right)\n",
      "SFFF\n",
      "FHFH\n",
      "\u001b[41mF\u001b[0mFFH\n",
      "HFFG\n",
      "======================\n",
      "Action 3 and observation 9 with reward 0.0 in episode 3, step 2\n",
      "======================\n",
      "  (Up)\n",
      "SFFF\n",
      "FHFH\n",
      "F\u001b[41mF\u001b[0mFH\n",
      "HFFG\n",
      "======================\n",
      "Action 2 and observation 10 with reward 0.0 in episode 3, step 3\n",
      "======================\n",
      "  (Right)\n",
      "SFFF\n",
      "FHFH\n",
      "FF\u001b[41mF\u001b[0mH\n",
      "HFFG\n",
      "======================\n",
      "Action 3 and observation 11 with reward 0.0 in episode 3, step 4\n",
      "======================\n",
      "Episode finished after 5 timesteps\n",
      "\n",
      "\u001b[41mS\u001b[0mFFF\n",
      "FHFH\n",
      "FFFH\n",
      "HFFG\n",
      "======================\n",
      "Action 3 and observation 0 with reward 0.0 in episode 4, step 0\n",
      "======================\n",
      "  (Up)\n",
      "\u001b[41mS\u001b[0mFFF\n",
      "FHFH\n",
      "FFFH\n",
      "HFFG\n",
      "======================\n",
      "Action 2 and observation 0 with reward 0.0 in episode 4, step 1\n",
      "======================\n",
      "  (Right)\n",
      "\u001b[41mS\u001b[0mFFF\n",
      "FHFH\n",
      "FFFH\n",
      "HFFG\n",
      "======================\n",
      "Action 2 and observation 0 with reward 0.0 in episode 4, step 2\n",
      "======================\n",
      "  (Right)\n",
      "\u001b[41mS\u001b[0mFFF\n",
      "FHFH\n",
      "FFFH\n",
      "HFFG\n",
      "======================\n",
      "Action 3 and observation 1 with reward 0.0 in episode 4, step 3\n",
      "======================\n",
      "  (Up)\n",
      "S\u001b[41mF\u001b[0mFF\n",
      "FHFH\n",
      "FFFH\n",
      "HFFG\n",
      "======================\n",
      "Action 0 and observation 1 with reward 0.0 in episode 4, step 4\n",
      "======================\n",
      "  (Left)\n",
      "S\u001b[41mF\u001b[0mFF\n",
      "FHFH\n",
      "FFFH\n",
      "HFFG\n",
      "======================\n",
      "Action 1 and observation 0 with reward 0.0 in episode 4, step 5\n",
      "======================\n",
      "  (Down)\n",
      "\u001b[41mS\u001b[0mFFF\n",
      "FHFH\n",
      "FFFH\n",
      "HFFG\n",
      "======================\n",
      "Action 2 and observation 0 with reward 0.0 in episode 4, step 6\n",
      "======================\n",
      "  (Right)\n",
      "\u001b[41mS\u001b[0mFFF\n",
      "FHFH\n",
      "FFFH\n",
      "HFFG\n",
      "======================\n",
      "Action 3 and observation 0 with reward 0.0 in episode 4, step 7\n",
      "======================\n",
      "  (Up)\n",
      "\u001b[41mS\u001b[0mFFF\n",
      "FHFH\n",
      "FFFH\n",
      "HFFG\n",
      "======================\n",
      "Action 2 and observation 4 with reward 0.0 in episode 4, step 8\n",
      "======================\n",
      "  (Right)\n",
      "SFFF\n",
      "\u001b[41mF\u001b[0mHFH\n",
      "FFFH\n",
      "HFFG\n",
      "======================\n",
      "Action 1 and observation 5 with reward 0.0 in episode 4, step 9\n",
      "======================\n",
      "Episode finished after 10 timesteps\n"
     ]
    }
   ],
   "source": [
    "for i_episode in range(num_episodes):\n",
    "    observation = env.reset()\n",
    "    for i in range(100):\n",
    "        env.render()\n",
    "        action = env.action_space.sample()\n",
    "        observation, reward, done, info = env.step(action)\n",
    "        print(\"======================\")\n",
    "        print(\"Action {} and observation {} with reward {} in episode {}, step {}\".format(\n",
    "            action, observation, reward,  i_episode, i))\n",
    "        print(\"======================\")\n",
    "        \n",
    "        if done:\n",
    "            print(\"Episode finished after {} timesteps\".format(i + 1))\n",
    "            break\n",
    "\n",
    "            "
   ]
  },
  {
   "cell_type": "markdown",
   "metadata": {},
   "source": [
    "**Implement Q-Table learning algorithm**"
   ]
  },
  {
   "cell_type": "code",
   "execution_count": 58,
   "metadata": {},
   "outputs": [
    {
     "data": {
      "text/plain": [
       "(16, 4)"
      ]
     },
     "execution_count": 58,
     "metadata": {},
     "output_type": "execute_result"
    }
   ],
   "source": [
    "Q = np.zeros([env.observation_space.n, env.action_space.n ])\n",
    "lr = .8\n",
    "y = .95\n",
    "Q.shape"
   ]
  },
  {
   "cell_type": "code",
   "execution_count": 67,
   "metadata": {},
   "outputs": [
    {
     "name": "stdout",
     "output_type": "stream",
     "text": [
      "0\n"
     ]
    }
   ],
   "source": [
    "s = env.reset()\n",
    "print(s)\n",
    "a = np.argmax(Q[s,:] + np.random.randn(1, env.action_space.n) *(1./(1+1)))"
   ]
  },
  {
   "cell_type": "code",
   "execution_count": 68,
   "metadata": {},
   "outputs": [
    {
     "data": {
      "text/plain": [
       "(0, 0.0, False, {'prob': 0.3333333333333333})"
      ]
     },
     "execution_count": 68,
     "metadata": {},
     "output_type": "execute_result"
    }
   ],
   "source": [
    "obs, reward, done, info =  env.step(a)\n",
    "obs, reward, done, info"
   ]
  },
  {
   "cell_type": "code",
   "execution_count": 69,
   "metadata": {},
   "outputs": [],
   "source": [
    "Q[s,a] = Q[s,a] + lr*(reward + y*np.max(Q[obs,:]) - Q[s,a])\n",
    "s = obs\n"
   ]
  },
  {
   "cell_type": "code",
   "execution_count": 70,
   "metadata": {},
   "outputs": [
    {
     "name": "stdout",
     "output_type": "stream",
     "text": [
      "0\n",
      "1\n",
      "2\n",
      "3\n",
      "4\n",
      "5\n",
      "6\n",
      "7\n",
      "8\n",
      "9\n"
     ]
    }
   ],
   "source": [
    "Q = np.zeros([env.observation_space.n, env.action_space.n ])\n",
    "lr = .8\n",
    "y = .95\n",
    "\n",
    "num_episodes = 10\n",
    "num_steps = 100\n",
    "reward_list = []\n",
    "\n",
    "for e in range(num_episodes):\n",
    "    print(e)\n",
    "    for step in range(num_steps)\n",
    "    \n",
    "    "
   ]
  }
 ],
 "metadata": {
  "kernelspec": {
   "display_name": "Python 3",
   "language": "python",
   "name": "python3"
  },
  "language_info": {
   "codemirror_mode": {
    "name": "ipython",
    "version": 3
   },
   "file_extension": ".py",
   "mimetype": "text/x-python",
   "name": "python",
   "nbconvert_exporter": "python",
   "pygments_lexer": "ipython3",
   "version": "3.5.3"
  }
 },
 "nbformat": 4,
 "nbformat_minor": 2
}
