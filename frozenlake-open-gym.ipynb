{
 "cells": [
  {
   "cell_type": "code",
   "execution_count": 1,
   "metadata": {
    "collapsed": false,
    "deletable": true,
    "editable": true
   },
   "outputs": [],
   "source": [
    "import gym\n",
    "import numpy as np"
   ]
  },
  {
   "cell_type": "code",
   "execution_count": 2,
   "metadata": {
    "collapsed": false,
    "deletable": true,
    "editable": true
   },
   "outputs": [
    {
     "name": "stderr",
     "output_type": "stream",
     "text": [
      "[2017-12-18 17:36:46,792] Making new env: FrozenLake-v0\n"
     ]
    }
   ],
   "source": [
    "env = gym.make('FrozenLake-v0')\n",
    "num_episodes = 5"
   ]
  },
  {
   "cell_type": "code",
   "execution_count": 4,
   "metadata": {
    "collapsed": false,
    "deletable": true,
    "editable": true
   },
   "outputs": [
    {
     "name": "stdout",
     "output_type": "stream",
     "text": [
      "\n",
      "\u001b[41mS\u001b[0mFFF\n",
      "FHFH\n",
      "FFFH\n",
      "HFFG\n"
     ]
    },
    {
     "data": {
      "text/plain": [
       "<ipykernel.iostream.OutStream at 0x7fd5d3720240>"
      ]
     },
     "execution_count": 4,
     "metadata": {},
     "output_type": "execute_result"
    }
   ],
   "source": [
    "env.render()\n",
    "# action = env.action_space.sample()\n",
    "# print(action)"
   ]
  },
  {
   "cell_type": "code",
   "execution_count": 5,
   "metadata": {
    "collapsed": false,
    "deletable": true,
    "editable": true
   },
   "outputs": [
    {
     "name": "stdout",
     "output_type": "stream",
     "text": [
      "\n",
      "\u001b[41mS\u001b[0mFFF\n",
      "FHFH\n",
      "FFFH\n",
      "HFFG\n",
      "======================\n",
      "Action 0 and observation 0 with reward 0.0 in episode 0, step 0\n",
      "======================\n",
      "  (Left)\n",
      "\u001b[41mS\u001b[0mFFF\n",
      "FHFH\n",
      "FFFH\n",
      "HFFG\n",
      "======================\n",
      "Action 3 and observation 0 with reward 0.0 in episode 0, step 1\n",
      "======================\n",
      "  (Up)\n",
      "\u001b[41mS\u001b[0mFFF\n",
      "FHFH\n",
      "FFFH\n",
      "HFFG\n",
      "======================\n",
      "Action 1 and observation 4 with reward 0.0 in episode 0, step 2\n",
      "======================\n",
      "  (Down)\n",
      "SFFF\n",
      "\u001b[41mF\u001b[0mHFH\n",
      "FFFH\n",
      "HFFG\n",
      "======================\n",
      "Action 0 and observation 8 with reward 0.0 in episode 0, step 3\n",
      "======================\n",
      "  (Left)\n",
      "SFFF\n",
      "FHFH\n",
      "\u001b[41mF\u001b[0mFFH\n",
      "HFFG\n",
      "======================\n",
      "Action 3 and observation 9 with reward 0.0 in episode 0, step 4\n",
      "======================\n",
      "  (Up)\n",
      "SFFF\n",
      "FHFH\n",
      "F\u001b[41mF\u001b[0mFH\n",
      "HFFG\n",
      "======================\n",
      "Action 3 and observation 10 with reward 0.0 in episode 0, step 5\n",
      "======================\n",
      "  (Up)\n",
      "SFFF\n",
      "FHFH\n",
      "FF\u001b[41mF\u001b[0mH\n",
      "HFFG\n",
      "======================\n",
      "Action 3 and observation 11 with reward 0.0 in episode 0, step 6\n",
      "======================\n",
      "Episode finished after 7 timesteps\n",
      "\n",
      "\u001b[41mS\u001b[0mFFF\n",
      "FHFH\n",
      "FFFH\n",
      "HFFG\n",
      "======================\n",
      "Action 3 and observation 1 with reward 0.0 in episode 1, step 0\n",
      "======================\n",
      "  (Up)\n",
      "S\u001b[41mF\u001b[0mFF\n",
      "FHFH\n",
      "FFFH\n",
      "HFFG\n",
      "======================\n",
      "Action 1 and observation 5 with reward 0.0 in episode 1, step 1\n",
      "======================\n",
      "Episode finished after 2 timesteps\n",
      "\n",
      "\u001b[41mS\u001b[0mFFF\n",
      "FHFH\n",
      "FFFH\n",
      "HFFG\n",
      "======================\n",
      "Action 3 and observation 0 with reward 0.0 in episode 2, step 0\n",
      "======================\n",
      "  (Up)\n",
      "\u001b[41mS\u001b[0mFFF\n",
      "FHFH\n",
      "FFFH\n",
      "HFFG\n",
      "======================\n",
      "Action 1 and observation 1 with reward 0.0 in episode 2, step 1\n",
      "======================\n",
      "  (Down)\n",
      "S\u001b[41mF\u001b[0mFF\n",
      "FHFH\n",
      "FFFH\n",
      "HFFG\n",
      "======================\n",
      "Action 2 and observation 5 with reward 0.0 in episode 2, step 2\n",
      "======================\n",
      "Episode finished after 3 timesteps\n",
      "\n",
      "\u001b[41mS\u001b[0mFFF\n",
      "FHFH\n",
      "FFFH\n",
      "HFFG\n",
      "======================\n",
      "Action 0 and observation 4 with reward 0.0 in episode 3, step 0\n",
      "======================\n",
      "  (Left)\n",
      "SFFF\n",
      "\u001b[41mF\u001b[0mHFH\n",
      "FFFH\n",
      "HFFG\n",
      "======================\n",
      "Action 3 and observation 5 with reward 0.0 in episode 3, step 1\n",
      "======================\n",
      "Episode finished after 2 timesteps\n",
      "\n",
      "\u001b[41mS\u001b[0mFFF\n",
      "FHFH\n",
      "FFFH\n",
      "HFFG\n",
      "======================\n",
      "Action 2 and observation 1 with reward 0.0 in episode 4, step 0\n",
      "======================\n",
      "  (Right)\n",
      "S\u001b[41mF\u001b[0mFF\n",
      "FHFH\n",
      "FFFH\n",
      "HFFG\n",
      "======================\n",
      "Action 0 and observation 1 with reward 0.0 in episode 4, step 1\n",
      "======================\n",
      "  (Left)\n",
      "S\u001b[41mF\u001b[0mFF\n",
      "FHFH\n",
      "FFFH\n",
      "HFFG\n",
      "======================\n",
      "Action 0 and observation 0 with reward 0.0 in episode 4, step 2\n",
      "======================\n",
      "  (Left)\n",
      "\u001b[41mS\u001b[0mFFF\n",
      "FHFH\n",
      "FFFH\n",
      "HFFG\n",
      "======================\n",
      "Action 0 and observation 4 with reward 0.0 in episode 4, step 3\n",
      "======================\n",
      "  (Left)\n",
      "SFFF\n",
      "\u001b[41mF\u001b[0mHFH\n",
      "FFFH\n",
      "HFFG\n",
      "======================\n",
      "Action 2 and observation 5 with reward 0.0 in episode 4, step 4\n",
      "======================\n",
      "Episode finished after 5 timesteps\n"
     ]
    }
   ],
   "source": [
    "for i_episode in range(num_episodes):\n",
    "    observation = env.reset()\n",
    "    for i in range(100):\n",
    "        env.render()\n",
    "        action = env.action_space.sample()\n",
    "        observation, reward, done, info = env.step(action)\n",
    "        print(\"======================\")\n",
    "        print(\"Action {} and observation {} with reward {} in episode {}, step {}\".format(\n",
    "            action, observation, reward,  i_episode, i))\n",
    "        print(\"======================\")\n",
    "        \n",
    "        if done:\n",
    "            print(\"Episode finished after {} timesteps\".format(i + 1))\n",
    "            break\n",
    "\n",
    "            "
   ]
  },
  {
   "cell_type": "markdown",
   "metadata": {
    "deletable": true,
    "editable": true
   },
   "source": [
    "**Implement Q-Table learning algorithm**"
   ]
  },
  {
   "cell_type": "code",
   "execution_count": 6,
   "metadata": {
    "collapsed": false,
    "deletable": true,
    "editable": true
   },
   "outputs": [
    {
     "data": {
      "text/plain": [
       "(16, 4)"
      ]
     },
     "execution_count": 6,
     "metadata": {},
     "output_type": "execute_result"
    }
   ],
   "source": [
    "Q = np.zeros([env.observation_space.n, env.action_space.n ])\n",
    "lr = .8\n",
    "y = .95\n",
    "Q.shape"
   ]
  },
  {
   "cell_type": "code",
   "execution_count": 7,
   "metadata": {
    "collapsed": false,
    "deletable": true,
    "editable": true
   },
   "outputs": [
    {
     "name": "stdout",
     "output_type": "stream",
     "text": [
      "0\n"
     ]
    }
   ],
   "source": [
    "s = env.reset()\n",
    "print(s)\n",
    "a = np.argmax(Q[s,:] + np.random.randn(1, env.action_space.n) *(1./(1+1)))"
   ]
  },
  {
   "cell_type": "code",
   "execution_count": 8,
   "metadata": {
    "collapsed": false,
    "deletable": true,
    "editable": true
   },
   "outputs": [
    {
     "data": {
      "text/plain": [
       "(4, 0.0, False, {'prob': 0.3333333333333333})"
      ]
     },
     "execution_count": 8,
     "metadata": {},
     "output_type": "execute_result"
    }
   ],
   "source": [
    "obs, reward, done, info =  env.step(a)\n",
    "obs, reward, done, info"
   ]
  },
  {
   "cell_type": "code",
   "execution_count": 9,
   "metadata": {
    "collapsed": true,
    "deletable": true,
    "editable": true
   },
   "outputs": [],
   "source": [
    "Q[s,a] = Q[s,a] + lr*(reward + y*np.max(Q[obs,:]) - Q[s,a])\n",
    "s = obs\n"
   ]
  },
  {
   "cell_type": "code",
   "execution_count": 11,
   "metadata": {
    "collapsed": false,
    "deletable": true,
    "editable": true
   },
   "outputs": [
    {
     "name": "stdout",
     "output_type": "stream",
     "text": [
      "0\n",
      "1\n",
      "2\n",
      "3\n",
      "4\n",
      "5\n",
      "6\n",
      "7\n",
      "8\n",
      "9\n"
     ]
    }
   ],
   "source": [
    "Q = np.zeros([env.observation_space.n, env.action_space.n ])\n",
    "lr = .8\n",
    "y = .95\n",
    "\n",
    "num_episodes = 10\n",
    "num_steps = 100\n",
    "reward_list = []\n",
    "\n",
    "for e in range(num_episodes):\n",
    "    print(e)\n",
    "#     for step in range(num_steps)\n",
    "    \n",
    "    "
   ]
  },
  {
   "cell_type": "code",
   "execution_count": null,
   "metadata": {
    "collapsed": true
   },
   "outputs": [],
   "source": []
  }
 ],
 "metadata": {
  "kernelspec": {
   "display_name": "tensorflow",
   "language": "python",
   "name": "tensorflow"
  },
  "language_info": {
   "codemirror_mode": {
    "name": "ipython",
    "version": 3
   },
   "file_extension": ".py",
   "mimetype": "text/x-python",
   "name": "python",
   "nbconvert_exporter": "python",
   "pygments_lexer": "ipython3",
   "version": "3.5.2"
  }
 },
 "nbformat": 4,
 "nbformat_minor": 2
}
